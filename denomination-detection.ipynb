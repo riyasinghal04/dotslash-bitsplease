{
 "cells": [
  {
   "cell_type": "code",
   "execution_count": null,
   "metadata": {},
   "outputs": [],
   "source": [
    "import cv2\n",
    "\n",
    "img=cv2.imread('1006.jpg',0)\n",
    "img=cv2.resize(img,(500,300))\n",
    "cv2.imshow('100',img)\n",
    "cv2.waitKey(0)\n",
    "r = cv2.selectROI(img)\n",
    "roi = img[int(r[1]):int(r[1]+r[3]), int(r[0]):int(r[0]+r[2])]\n",
    "cv2.imwrite('20.jpg',roi)\n",
    "cv2.imshow('roi',roi)\n",
    "cv2.waitKey(0)\n",
    "cv2.destroyAllWindows()"
   ]
  },
  {
   "cell_type": "code",
   "execution_count": 61,
   "metadata": {},
   "outputs": [],
   "source": [
    "import cv2\n",
    "import numpy as np\n",
    "\n",
    "image = cv2.imread(\"scannedimg1.jpg\")\n",
    "cv2.imshow('100', image)\n",
    "cv2.waitKey(0)\n",
    "gray = cv2.cvtColor(image, cv2.COLOR_BGR2GRAY)\n",
    "gray=cv2.resize(gray,(500 ,300))\n",
    "template = cv2.imread('100.jpg',0)\n",
    "\n",
    "w, h = template.shape[::-1]\n",
    "\n",
    "result = cv2.matchTemplate(gray, template, cv2.TM_CCOEFF_NORMED)\n",
    "threshold=0.53\n",
    "loc=np.where(result>=threshold)\n",
    "\n",
    "for pt in zip(*loc[::-1]): \n",
    "    cv2.rectangle(gray, pt, (pt[0] + w, pt[1] + h), (0,255,255), 2) \n",
    "    \n",
    "# min_val, max_val, min_loc, max_loc = cv2.minMaxLoc(result)\n",
    "\n",
    "# top_left = max_loc\n",
    "# bottom_right = (top_left[0] + 96, top_left[1] + 63)\n",
    "# cv2.rectangle(gray, top_left, bottom_right, (0,255,255), 5)\n",
    "\n",
    "cv2.imshow('Note', gray)\n",
    "cv2.waitKey(0)\n",
    "cv2.destroyAllWindows()"
   ]
  },
  {
   "cell_type": "code",
   "execution_count": 17,
   "metadata": {},
   "outputs": [
    {
     "data": {
      "text/plain": [
       "True"
      ]
     },
     "execution_count": 17,
     "metadata": {},
     "output_type": "execute_result"
    }
   ],
   "source": [
    "roi=cv2.imread('10.jpg')\n",
    "roi=cv2.resize(roi,(96,63))\n",
    "cv2.imwrite('10.jpg',roi)"
   ]
  },
  {
   "cell_type": "code",
   "execution_count": null,
   "metadata": {},
   "outputs": [],
   "source": [
    "print(max_loc)\n"
   ]
  },
  {
   "cell_type": "code",
   "execution_count": 67,
   "metadata": {},
   "outputs": [
    {
     "name": "stdout",
     "output_type": "stream",
     "text": [
      "blwe\n"
     ]
    }
   ],
   "source": [
    "if (result>=threshold).any==True:\n",
    "    print(\"hello\")\n",
    "else:\n",
    "    print(\"blwe\")\n"
   ]
  },
  {
   "cell_type": "code",
   "execution_count": 63,
   "metadata": {},
   "outputs": [
    {
     "data": {
      "text/plain": [
       "array([[False, False, False, ..., False, False, False],\n",
       "       [False, False, False, ..., False, False, False],\n",
       "       [False, False, False, ..., False, False, False],\n",
       "       ...,\n",
       "       [False, False, False, ..., False, False, False],\n",
       "       [False, False, False, ..., False, False, False],\n",
       "       [False, False, False, ..., False, False, False]])"
      ]
     },
     "execution_count": 63,
     "metadata": {},
     "output_type": "execute_result"
    }
   ],
   "source": [
    "result>=threshold"
   ]
  },
  {
   "cell_type": "code",
   "execution_count": 68,
   "metadata": {},
   "outputs": [
    {
     "data": {
      "text/plain": [
       "array([[ 0.12047864,  0.101275  ,  0.09987945, ..., -0.00634548,\n",
       "         0.00437406, -0.00684515],\n",
       "       [ 0.10137317,  0.09141099,  0.09673332, ..., -0.01730666,\n",
       "         0.00246848, -0.00251231],\n",
       "       [ 0.08581979,  0.08084188,  0.09207086, ..., -0.01424246,\n",
       "         0.00733802, -0.00084033],\n",
       "       ...,\n",
       "       [ 0.07930759,  0.08567491,  0.07843636, ...,  0.09099656,\n",
       "         0.10530688,  0.10480758],\n",
       "       [ 0.07604616,  0.08602516,  0.0785683 , ...,  0.0840909 ,\n",
       "         0.09619252,  0.09126608],\n",
       "       [ 0.06345312,  0.07173158,  0.06717246, ...,  0.0870226 ,\n",
       "         0.09889626,  0.09339148]], dtype=float32)"
      ]
     },
     "execution_count": 68,
     "metadata": {},
     "output_type": "execute_result"
    }
   ],
   "source": [
    "result"
   ]
  },
  {
   "cell_type": "code",
   "execution_count": 69,
   "metadata": {},
   "outputs": [
    {
     "data": {
      "text/plain": [
       "(array([97], dtype=int64), array([189], dtype=int64))"
      ]
     },
     "execution_count": 69,
     "metadata": {},
     "output_type": "execute_result"
    }
   ],
   "source": [
    "loc"
   ]
  },
  {
   "cell_type": "code",
   "execution_count": 70,
   "metadata": {},
   "outputs": [
    {
     "data": {
      "text/plain": [
       "(array([97], dtype=int64), array([189], dtype=int64))"
      ]
     },
     "execution_count": 70,
     "metadata": {},
     "output_type": "execute_result"
    }
   ],
   "source": [
    "np.where(result>=threshold)"
   ]
  },
  {
   "cell_type": "code",
   "execution_count": 72,
   "metadata": {},
   "outputs": [
    {
     "data": {
      "text/plain": [
       "<zip at 0x24971cb5e48>"
      ]
     },
     "execution_count": 72,
     "metadata": {},
     "output_type": "execute_result"
    }
   ],
   "source": [
    "zip(*loc[::-1])"
   ]
  },
  {
   "cell_type": "code",
   "execution_count": null,
   "metadata": {},
   "outputs": [],
   "source": []
  }
 ],
 "metadata": {
  "kernelspec": {
   "display_name": "Python 3",
   "language": "python",
   "name": "python3"
  },
  "language_info": {
   "codemirror_mode": {
    "name": "ipython",
    "version": 3
   },
   "file_extension": ".py",
   "mimetype": "text/x-python",
   "name": "python",
   "nbconvert_exporter": "python",
   "pygments_lexer": "ipython3",
   "version": "3.7.3"
  }
 },
 "nbformat": 4,
 "nbformat_minor": 2
}
