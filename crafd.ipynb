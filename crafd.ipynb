{
 "cells": [
  {
   "cell_type": "code",
   "execution_count": 2,
   "metadata": {},
   "outputs": [],
   "source": [
    "import numpy as np\n",
    "\n",
    "import cv2"
   ]
  },
  {
   "cell_type": "code",
   "execution_count": null,
   "metadata": {},
   "outputs": [
    {
     "name": "stdout",
     "output_type": "stream",
     "text": [
      "currency belongs to India\n"
     ]
    }
   ],
   "source": [
    "image = cv2.imread(\"100oldscanned.jpg\")\n",
    "image=cv2.resize(image,(500 ,300))\n",
    "cv2.imshow('input', image)\n",
    "cv2.waitKey(0)\n",
    "gray = cv2.cvtColor(image, cv2.COLOR_BGR2GRAY)\n",
    "gray=cv2.resize(gray,(500 ,300))\n",
    "\n",
    "\n",
    "flag1=0\n",
    "#emblem\n",
    "template = cv2.imread('template.jpg',0)\n",
    "w1, h1 = template.shape[::-1]\n",
    "\n",
    "result1 = cv2.matchTemplate(gray, template, cv2.TM_CCOEFF_NORMED)\n",
    "threshold=0.4\n",
    "loc1=np.where(result1>=threshold)\n",
    "img1=image.copy()\n",
    "\n",
    "for pt in zip(*loc1[::-1]): \n",
    "    cv2.rectangle(img1, pt, (pt[0] + w1, pt[1] + h1), (0,255,0), 3)\n",
    "    cv2.putText(img1,\"Indian Currency\",(60,60),cv2.FONT_HERSHEY_SIMPLEX,1.0,(0,0,255),lineType=cv2.LINE_AA)\n",
    "    flag1=1\n",
    "    \n",
    "    \n",
    "if flag1==0:\n",
    "    print(\"currency does not belong to india\")\n",
    "else:\n",
    "    print(\"currency belongs to India\")\n",
    "    cv2.imshow('result', img1)\n",
    "    cv2.waitKey(0)\n",
    "\n",
    "    value=[\"2000\",\"200\",\"500\",\"100\",\"50\",\"20\",\"20\",\"10\",\"10\"]\n",
    "    flag2=0\n",
    "    img2=image.copy()\n",
    "    \n",
    "    for i in range(0,9):\n",
    "        template = cv2.imread('templates/'+str(i)+'.jpg',0)\n",
    "        #cv2.imshow(\"template\",template)\n",
    "\n",
    "        w2, h2 = template.shape[::-1]\n",
    "\n",
    "        result = cv2.matchTemplate(gray, template, cv2.TM_CCOEFF_NORMED)\n",
    "        threshold=0.53\n",
    "        loc=np.where(result>=threshold)\n",
    "\n",
    "        for pt in zip(*loc[::-1]): \n",
    "            cv2.rectangle(img2, pt, (pt[0] + w2, pt[1] + h2), (0,255,255), 2)\n",
    "            cv2.putText(img2,str(value[i]),(60,60),cv2.FONT_HERSHEY_SIMPLEX,1.0,(0,0,255),lineType=cv2.LINE_AA)\n",
    "\n",
    "\n",
    "            flag2=1\n",
    "\n",
    "\n",
    "        if(flag2==1):\n",
    "            break\n",
    "\n",
    "\n",
    "    if flag2==0:\n",
    "        print(\"currency denomination not recognised\")\n",
    "    else:\n",
    "        cv2.imshow('result', img2)\n",
    "        cv2.waitKey(0)\n",
    "        print('denomination detected')\n",
    "\n",
    "    \n",
    "cv2.destroyAllWindows()"
   ]
  },
  {
   "cell_type": "code",
   "execution_count": 12,
   "metadata": {},
   "outputs": [],
   "source": [
    "\n",
    "flag1=0\n",
    "#emblem\n",
    "template = cv2.imread('templates/2000n.jpg',0)\n",
    "w1, h1 = template.shape[::-1]\n",
    "\n",
    "result1 = cv2.matchTemplate(gray, template, cv2.TM_CCOEFF_NORMED)\n",
    "threshold=0.4\n",
    "loc1=np.where(result1>=threshold)\n",
    "img3=image.copy()\n",
    "\n",
    "for pt in zip(*loc1[::-1]): \n",
    "    cv2.rectangle(img3, pt, (pt[0] + w1, pt[1] + h1), (0,255,0), 3)\n",
    "    flag1=1\n",
    "    \n",
    "\n",
    "    \n"
   ]
  },
  {
   "cell_type": "code",
   "execution_count": 13,
   "metadata": {},
   "outputs": [
    {
     "name": "stdout",
     "output_type": "stream",
     "text": [
      "2\n"
     ]
    }
   ],
   "source": [
    "template = cv2.imread('templates/2000b.jpg',0)\n",
    "w2, h2 = template.shape[::-1]\n",
    "\n",
    "result1 = cv2.matchTemplate(gray, template, cv2.TM_CCOEFF_NORMED)\n",
    "threshold=0.4\n",
    "loc1=np.where(result1>=threshold)\n",
    "img3=image.copy()\n",
    "\n",
    "for pt in zip(*loc1[::-1]): \n",
    "    cv2.rectangle(img3, pt, (pt[0] + w2, pt[1] + h2), (0,255,0), 3)\n",
    "    flag1=2\n",
    "print(flag1)   "
   ]
  },
  {
   "cell_type": "code",
   "execution_count": 14,
   "metadata": {},
   "outputs": [
    {
     "name": "stdout",
     "output_type": "stream",
     "text": [
      "Real Currency\n"
     ]
    }
   ],
   "source": [
    "if flag1==2:\n",
    "    cv2.putText(img3,\"Security Features Detected\",(60,60),cv2.FONT_HERSHEY_SIMPLEX,1.0,(0,0,255),lineType=cv2.LINE_AA)\n",
    "    cv2.imshow('result', img3)\n",
    "    cv2.waitKey(0)\n",
    "    print('Real Currency')\n",
    "\n",
    "else:\n",
    "    print('Fake Currency')"
   ]
  },
  {
   "cell_type": "code",
   "execution_count": null,
   "metadata": {},
   "outputs": [],
   "source": []
  }
 ],
 "metadata": {
  "kernelspec": {
   "display_name": "Python 3",
   "language": "python",
   "name": "python3"
  },
  "language_info": {
   "codemirror_mode": {
    "name": "ipython",
    "version": 3
   },
   "file_extension": ".py",
   "mimetype": "text/x-python",
   "name": "python",
   "nbconvert_exporter": "python",
   "pygments_lexer": "ipython3",
   "version": "3.7.4"
  }
 },
 "nbformat": 4,
 "nbformat_minor": 2
}
