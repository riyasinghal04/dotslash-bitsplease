{
 "cells": [
  {
   "cell_type": "code",
   "execution_count": 2,
   "metadata": {},
   "outputs": [],
   "source": [
    "from dotslash.transform import four_point_transform\n",
    "from skimage.filters import threshold_local\n",
    "import numpy as np\n",
    "import argparse\n",
    "import cv2\n",
    "import imutils"
   ]
  },
  {
   "cell_type": "code",
   "execution_count": 2,
   "metadata": {},
   "outputs": [],
   "source": [
    "def scanner(image):\n",
    "    ratio = image.shape[0] / 500.0\n",
    "    orig = image.copy()\n",
    "    image = imutils.resize(image, height = 500)\n",
    "\n",
    "    gray = cv2.cvtColor(image, cv2.COLOR_BGR2GRAY)\n",
    "    gray = cv2.GaussianBlur(gray, (5, 5), 0)\n",
    "    edged = cv2.Canny(gray, 75, 200)\n",
    "    \n",
    "#     # show the original image and the edge detected image\n",
    "#     print(\"STEP 1: Edge Detection\")\n",
    "#     cv2.imshow(\"Image\", image)\n",
    "#     cv2.imshow(\"Edged\", edged)\n",
    "#     cv2.waitKey(0)\n",
    "#     cv2.destroyAllWindows()\n",
    "\n",
    "    \n",
    "    cnts = cv2.findContours(edged.copy(), cv2.RETR_LIST, cv2.CHAIN_APPROX_SIMPLE)\n",
    "    cnts = imutils.grab_contours(cnts)\n",
    "    cnts = sorted(cnts, key = cv2.contourArea, reverse = True)[:5]\n",
    "\n",
    "   \n",
    "    for c in cnts:\n",
    "        peri = cv2.arcLength(c, True)\n",
    "        approx = cv2.approxPolyDP(c, 0.02 * peri, True)\n",
    "\n",
    "    \n",
    "        if len(approx) == 4:\n",
    "            screenCnt = approx\n",
    "            break\n",
    "        else:\n",
    "            screenCnt=np.zeros((4,1,2))\n",
    "\n",
    "    \n",
    "#     cv2.drawContours(image, [screenCnt], -1, (0, 255, 0), 2)\n",
    "#     cv2.imshow(\"Outline\", image)\n",
    "#     cv2.waitKey(0)\n",
    "#     cv2.destroyAllWindows()\n",
    "    \n",
    "    if(len(cnts)!=0):\n",
    "        warped = four_point_transform(orig, screenCnt.reshape(4, 2) * ratio)\n",
    "        warped = cv2.cvtColor(warped, cv2.COLOR_BGR2GRAY)\n",
    "        T = threshold_local(warped, 11, offset = 10, method = \"gaussian\")\n",
    "        warped = (warped > T).astype(\"uint8\") * 255\n",
    "\n",
    "    # show the original and scanned images\n",
    "#     print(\"STEP 3: Apply perspective transform\")\n",
    "#     cv2.imshow(\"Original\", imutils.resize(orig, height = 650))\n",
    "#     cv2.imshow(\"Scanned\", imutils.resize(warped, height = 650))\n",
    "#     cv2.imwrite(\"scannedimg.jpg\",imutils.resize(warped, height = 650))\n",
    "#     cv2.waitKey(0)\n",
    "        return imutils.resize(warped, height = 650)\n",
    "    else:\n",
    "        return"
   ]
  },
  {
   "cell_type": "code",
   "execution_count": 3,
   "metadata": {},
   "outputs": [],
   "source": [
    "cap=cv2.VideoCapture(0)\n",
    "cx=70\n",
    "cy=130\n",
    "rw=470\n",
    "rh=230\n",
    "\n",
    "while True:\n",
    "    ret, image=cap.read()\n",
    "    pre=image[cy:cy+rh,cx:cx+rw]\n",
    "    cv2.imwrite(\"roi.jpeg\",pre)\n",
    "    #scanned_img=scanner(pre)\n",
    "    cv2.rectangle(image,(cx,cy),(cx+rw,cy+rh),(255,255,255),5)\n",
    "    cv2.imshow(\"frame\",image)\n",
    "   \n",
    "    #cv2.imshow(\"scanned image\",scanned_img)\n",
    "    \n",
    "    \n",
    "    if cv2.waitKey(1) == 13:\n",
    "        break\n",
    "cap.release()\n",
    "cv2.destroyAllWindows()"
   ]
  },
  {
   "cell_type": "code",
   "execution_count": null,
   "metadata": {},
   "outputs": [],
   "source": [
    "\n"
   ]
  },
  {
   "cell_type": "code",
   "execution_count": null,
   "metadata": {},
   "outputs": [],
   "source": []
  },
  {
   "cell_type": "code",
   "execution_count": null,
   "metadata": {},
   "outputs": [],
   "source": []
  },
  {
   "cell_type": "code",
   "execution_count": null,
   "metadata": {},
   "outputs": [],
   "source": []
  },
  {
   "cell_type": "code",
   "execution_count": null,
   "metadata": {},
   "outputs": [],
   "source": []
  }
 ],
 "metadata": {
  "kernelspec": {
   "display_name": "Python 3",
   "language": "python",
   "name": "python3"
  },
  "language_info": {
   "codemirror_mode": {
    "name": "ipython",
    "version": 3
   },
   "file_extension": ".py",
   "mimetype": "text/x-python",
   "name": "python",
   "nbconvert_exporter": "python",
   "pygments_lexer": "ipython3",
   "version": "3.7.3"
  }
 },
 "nbformat": 4,
 "nbformat_minor": 2
}
