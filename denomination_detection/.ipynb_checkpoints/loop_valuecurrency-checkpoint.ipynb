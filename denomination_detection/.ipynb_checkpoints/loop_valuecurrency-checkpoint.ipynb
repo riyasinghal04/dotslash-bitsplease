{
 "cells": [
  {
   "cell_type": "code",
   "execution_count": 2,
   "metadata": {},
   "outputs": [],
   "source": [
    "import cv2\n",
    "import numpy as np\n"
   ]
  },
  {
   "cell_type": "code",
   "execution_count": null,
   "metadata": {},
   "outputs": [],
   "source": [
    "image = cv2.imread(\"testimages/50old.jpg\")\n",
    "image=cv2.resize(image,(500 ,300))\n",
    "cv2.imshow('100', image)\n",
    "cv2.waitKey(0)\n",
    "gray = cv2.cvtColor(image, cv2.COLOR_BGR2GRAY)\n",
    "gray=cv2.resize(gray,(500 ,300))\n",
    "\n",
    "\n",
    "value=[\"10\",\"10\",\"20\",\"50\",\"100\",\"500\",\"20\"]\n",
    "flag=0\n",
    "\n",
    "for i in range(0,7):\n",
    "    template = cv2.imread('templates/'+str(i)+'.jpg',0)\n",
    "    #cv2.imshow(\"template\",template)\n",
    "    \n",
    "    w, h = template.shape[::-1]\n",
    "\n",
    "    result = cv2.matchTemplate(gray, template, cv2.TM_CCOEFF_NORMED)\n",
    "    threshold=0.53\n",
    "    loc=np.where(result>=threshold)\n",
    "    \n",
    "    for pt in zip(*loc[::-1]): \n",
    "        cv2.rectangle(image, pt, (pt[0] + w, pt[1] + h), (0,255,255), 2)\n",
    "        cv2.putText(image,str(value[i]),(60,60),cv2.FONT_HERSHEY_SIMPLEX,1.0,(255,255,255),lineType=cv2.LINE_AA)\n",
    "        \n",
    "        \n",
    "        flag=1\n",
    "\n",
    "            \n",
    "    if(flag==1):\n",
    "        break\n",
    "    \n",
    "    \n",
    "if flag==0:\n",
    "    print(\"currency not recognised\")\n",
    "else:\n",
    "    cv2.imshow('result', image)\n",
    "    cv2.waitKey(0)\n",
    "    print('demonition detected')\n",
    "\n",
    "        \n",
    "\n",
    "#cv2.waitKey(0)\n",
    "cv2.destroyAllWindows()"
   ]
  },
  {
   "cell_type": "code",
   "execution_count": null,
   "metadata": {},
   "outputs": [],
   "source": []
  },
  {
   "cell_type": "code",
   "execution_count": null,
   "metadata": {},
   "outputs": [],
   "source": [
    "for i in range(1,5):\n",
    "    template = cv2.imread(str(i)+'.jpg',0)\n",
    "    cv2.imshow(\"juj\",template)\n",
    "    \n",
    "    cv2.waitKey(0)\n",
    "cv2.destroyAllWindows()"
   ]
  },
  {
   "cell_type": "code",
   "execution_count": null,
   "metadata": {},
   "outputs": [],
   "source": [
    "\n",
    "template = cv2.imread(\"10.jpg\")\n",
    "cv2.imshow(\"juj\",template)\n",
    "    \n",
    "cv2.waitKey(0)\n",
    "cv2.destroyAllWindows()"
   ]
  },
  {
   "cell_type": "code",
   "execution_count": null,
   "metadata": {},
   "outputs": [],
   "source": []
  },
  {
   "cell_type": "code",
   "execution_count": null,
   "metadata": {},
   "outputs": [],
   "source": []
  }
 ],
 "metadata": {
  "kernelspec": {
   "display_name": "Python 3",
   "language": "python",
   "name": "python3"
  },
  "language_info": {
   "codemirror_mode": {
    "name": "ipython",
    "version": 3
   },
   "file_extension": ".py",
   "mimetype": "text/x-python",
   "name": "python",
   "nbconvert_exporter": "python",
   "pygments_lexer": "ipython3",
   "version": "3.7.3"
  }
 },
 "nbformat": 4,
 "nbformat_minor": 2
}
